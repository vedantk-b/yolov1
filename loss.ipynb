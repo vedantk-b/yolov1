{
 "cells": [
  {
   "cell_type": "code",
   "execution_count": 2,
   "metadata": {},
   "outputs": [],
   "source": [
    "import torch\n",
    "import torch.nn as nn\n",
    "from utils import intersection_over_union"
   ]
  },
  {
   "cell_type": "code",
   "execution_count": 3,
   "metadata": {},
   "outputs": [],
   "source": [
    "class YoloLoss(nn.Module):\n",
    "    def __init__(self, S=7, B=2, C=20) -> None:\n",
    "        super().__init__()\n",
    "        self.B = B\n",
    "        self.C = C\n",
    "        self.S = S\n",
    "        self.mse = nn.MSELoss(reduction=\"sum\")\n",
    "        self.lambda_obj = 5\n",
    "        self.lambda_nobj = 0.5\n",
    "\n",
    "    def forward(self, predtictions, targets):\n",
    "        predtictions = predtictions[-1, self.S, self.S, self.C + 5*self.B]\n",
    "        iou_b1 = intersection_over_union(predtictions[..., 21:25], targets[..., 21:25])\n",
    "        iou_b2 = intersection_over_union(predtictions[..., 26:30], targets[..., 21:25])\n",
    "        ious = torch.cat(iou_b1.unsqueeze(0), iou_b2.unsqueeze(0))\n",
    "        iou_max, best_box = torch.max(ious, dim=0)\n",
    "        box_exists = predtictions[..., 20:21]\n",
    "\n",
    "        #coordinates cost\n",
    "        box_predictions = box_exists*(\n",
    "            best_box*(predtictions[..., 26:30]) + (1-best_box)*(predtictions[..., 21:25])\n",
    "        )\n",
    "        box_targets = box_exists*(\n",
    "            targets[..., 21:25]\n",
    "        )\n",
    "        box_predictions[..., 2:4] = torch.sign(box_predictions[..., 2:4])*(torch.sqrt(torch.abs(box_predictions[..., 2:4] + 1e-6)))\n",
    "        box_targets[..., 2:4] = torch.sqrt(box_targets[..., 2:4])\n",
    "\n",
    "        box_loss = self.mse(\n",
    "            torch.flatten(box_predictions, end_dim=-2),\n",
    "            torch.flatten(box_targets, end_dim=-2)\n",
    "        )\n",
    "\n",
    "        #object existence cost\n",
    "        exist_pred = best_box*predtictions[..., 20:21] + (1-best_box)*predtictions[..., 25:26]\n",
    "        obj_loss = self.mse(\n",
    "            torch.flatten(box_exists*exist_pred, end_dim=-2),\n",
    "            torch.flatten(box_exists*targets[..., 20:21], end_dim=-2)\n",
    "        )\n",
    "        #no object loss\n",
    "\n",
    "        no_obj_loss = self.mse(\n",
    "            torch.flatten(box_exists*predtictions[..., 20:21], end_dim=-2), \n",
    "            torch.flatten(box_exists*targets[..., 20:21], end_dim=-2)\n",
    "        )\n",
    "        no_obj_loss+=self.mse(\n",
    "            torch.flatten(box_exists*predtictions[..., 25:26], end_dim=-2),\n",
    "            torch.flatten(box_exists*targets[..., 20:21], end_dim=-2)\n",
    "        )\n",
    "        \n",
    "        #class loss\n",
    "        class_loss = self.mse(\n",
    "            torch.flatten(box_exists*predtictions[..., :20], end_dim=-2),\n",
    "            torch.flatten(box_exists*targets[..., :20], end_dim=-2)\n",
    "        )\n",
    "\n",
    "        loss = self.lambda_obj*box_loss+obj_loss+self.lambda_nobj*no_obj_loss+class_loss\n"
   ]
  }
 ],
 "metadata": {
  "interpreter": {
   "hash": "c62687798b2e6c41aa6cefc0e6bfe0267420d9769261274e37131b8b1f06cbf8"
  },
  "kernelspec": {
   "display_name": "Python 3.8.12 64-bit ('pytorchap': conda)",
   "name": "python3"
  },
  "language_info": {
   "codemirror_mode": {
    "name": "ipython",
    "version": 3
   },
   "file_extension": ".py",
   "mimetype": "text/x-python",
   "name": "python",
   "nbconvert_exporter": "python",
   "pygments_lexer": "ipython3",
   "version": "3.8.12"
  },
  "orig_nbformat": 4
 },
 "nbformat": 4,
 "nbformat_minor": 2
}
